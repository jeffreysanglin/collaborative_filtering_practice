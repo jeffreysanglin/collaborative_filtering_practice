{
 "cells": [
  {
   "cell_type": "markdown",
   "id": "655c7dbd-06a9-4d11-8e70-d9ef4dfdb51e",
   "metadata": {},
   "source": [
    "\n",
    "Lesson: https://youtu.be/p4ZZq0736Po?feature=shared&t=3770\n",
    "\n",
    "Dataset: https://www.kaggle.com/datasets/grouplens/movielens-20m-dataset"
   ]
  },
  {
   "cell_type": "code",
   "execution_count": 4,
   "id": "fdcf8e9f-17cc-48e9-852f-e9da3052c5b6",
   "metadata": {
    "tags": []
   },
   "outputs": [],
   "source": [
    "import numpy as np\n",
    "import pandas as pd\n",
    "import torch\n",
    "\n",
    "# Homebrew\n",
    "from kaggle_util import KaggleUtil"
   ]
  },
  {
   "cell_type": "code",
   "execution_count": null,
   "id": "d2d24626-bfe5-4e9c-955c-75c2e504b160",
   "metadata": {},
   "outputs": [],
   "source": []
  }
 ],
 "metadata": {
  "kernelspec": {
   "display_name": "Python 3 (ipykernel)",
   "language": "python",
   "name": "python3"
  },
  "language_info": {
   "codemirror_mode": {
    "name": "ipython",
    "version": 3
   },
   "file_extension": ".py",
   "mimetype": "text/x-python",
   "name": "python",
   "nbconvert_exporter": "python",
   "pygments_lexer": "ipython3",
   "version": "3.11.7"
  }
 },
 "nbformat": 4,
 "nbformat_minor": 5
}
