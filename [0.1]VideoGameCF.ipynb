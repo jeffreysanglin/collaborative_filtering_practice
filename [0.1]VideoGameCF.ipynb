{
 "cells": [
  {
   "cell_type": "markdown",
   "id": "19212e7d-8559-4f6d-8c3c-f1b3fe41397f",
   "metadata": {},
   "source": [
    "# Recommendation Engine"
   ]
  },
  {
   "cell_type": "markdown",
   "id": "4a180ea0-c41a-4345-9759-88fb81321715",
   "metadata": {},
   "source": [
    "Alternative Datasets:\n",
    "- Steam API - This seems really heavy. Let's try something else.\n",
    "- OpenCritic - https://rapidapi.com/console/10520148/billing/subscriptions-and-usage\n",
    "- ~~Steam User Reviews - https://zenodo.org/records/1000885~~\n",
    "- Species Occurance - eBird\n",
    "- book ratings: https://www.kaggle.com/datasets/ruchi798/bookcrossing-dataset"
   ]
  },
  {
   "cell_type": "markdown",
   "id": "f96b53d0-551a-49e8-8888-7f9c62b0defc",
   "metadata": {},
   "source": [
    "## Outline:\n",
    "1. [Problem Statement](#Problem-Statement)\n",
    "2. [Proposed Solution](#Proposed-Solution)\n",
    "3. [How it integrates with my strategy for game dev.](#Strategy-Integration)\n",
    "4. [The Data](#The-Data)\n",
    "5. [Modelling](#Modelling)\n",
    "6. [Accuracy and Iteration](#Accuracy-and-Iteration)\n",
    "7. [Insights](#Insights)\n",
    "8. [Appify it](#Appify-it)"
   ]
  },
  {
   "cell_type": "markdown",
   "id": "555aeb2b-a3ee-4e64-8ac8-2dc1df6441f3",
   "metadata": {},
   "source": [
    "## Problem Statement\n",
    "Video games is a big business. If you're a developer, it's easy to get lost in the crowd, especially if you're not marketting to your best audience. Developing a game is a lengthy process, and if you're an indie dev it means years of time investment with potentially no payoff.\n",
    "\n",
    "## Proposed Solution\n",
    "What if we could use collaborative filtering to build a recommendation engine and size up the opportunity for potential new games with various genres or features? \n",
    "\n",
    "The steps will include: _Exploring the data, Building the Model, Evaluating, Iterating, and Extracting some Insights. Once these steps are complete, it can be deployed for broader use._"
   ]
  },
  {
   "cell_type": "markdown",
   "id": "d73a044c-d127-45ea-858c-bb29a4c974c2",
   "metadata": {},
   "source": []
  },
  {
   "cell_type": "markdown",
   "id": "0784cb5e-197f-41f8-93ce-f73970f86669",
   "metadata": {},
   "source": [
    "## Strategy Integration\n",
    "I'm personally interested in this topic, since I'm bootstrapping my own project. It will have scifi and tactical rpg themes, so this will be especially useful for my own work."
   ]
  },
  {
   "cell_type": "markdown",
   "id": "e3d79021-7edc-4080-a76a-40db22ee075a",
   "metadata": {},
   "source": [
    "## The Data\n",
    "I'm utilizing the data collected and cleaned by NewbieIndieGameDev from Steam's api. Link: https://github.com/NewbieIndieGameDev/steam-insights#\n",
    "\n",
    "It includes game data for genres, tags, and most importantly reviews."
   ]
  },
  {
   "cell_type": "markdown",
   "id": "29229a00-a1ec-4b1d-95ee-4961bfa04046",
   "metadata": {},
   "source": [
    "First, I need to extract the data in an easy to use way. I want to practice with airflow, so I'll be doing a simple one-time pipeline."
   ]
  },
  {
   "cell_type": "code",
   "execution_count": 3,
   "id": "3818e98b-444c-4691-8c16-d9362115b93a",
   "metadata": {
    "tags": []
   },
   "outputs": [],
   "source": [
    "import pandas as pd\n",
    "import zipfile\n",
    "from pathlib import Path\n",
    "#import pyarrow.csv as pv\n",
    "#import pyarrow.parquet as pq\n",
    "#from io import TextIOWrapper\n",
    "#import duckdb\n",
    "\n",
    "#path = Path(\"./data/steam-insights\")"
   ]
  },
  {
   "cell_type": "code",
   "execution_count": null,
   "id": "2b580520-87ca-48db-a64e-1ed1b0986dba",
   "metadata": {},
   "outputs": [],
   "source": []
  },
  {
   "cell_type": "markdown",
   "id": "83026dcf-4aff-4648-8fea-0b5926976778",
   "metadata": {},
   "source": [
    "## Modelling"
   ]
  },
  {
   "cell_type": "code",
   "execution_count": null,
   "id": "ebc25dcf-4967-473f-851e-3cf5794dfc14",
   "metadata": {},
   "outputs": [],
   "source": []
  },
  {
   "cell_type": "markdown",
   "id": "b906fcbf-723a-446e-8211-1e0220c637e9",
   "metadata": {},
   "source": [
    "## Accuracy and Iteration"
   ]
  },
  {
   "cell_type": "code",
   "execution_count": null,
   "id": "024a410d-a337-4c60-bcdb-0bc87a548011",
   "metadata": {},
   "outputs": [],
   "source": []
  },
  {
   "cell_type": "markdown",
   "id": "9636f1a6-6db4-4659-a704-887f839244ac",
   "metadata": {},
   "source": [
    "## Insights"
   ]
  },
  {
   "cell_type": "code",
   "execution_count": null,
   "id": "b35d15bf-9119-4245-a373-21d1f614c849",
   "metadata": {},
   "outputs": [],
   "source": []
  },
  {
   "cell_type": "markdown",
   "id": "4bef6b61-8673-4e1b-881c-1ae8bba63915",
   "metadata": {},
   "source": [
    "## Appify it"
   ]
  },
  {
   "cell_type": "code",
   "execution_count": null,
   "id": "40ff7d2d-d876-4ecf-a807-c1f8bc3c6fe6",
   "metadata": {},
   "outputs": [],
   "source": []
  }
 ],
 "metadata": {
  "kernelspec": {
   "display_name": "Python 3 (ipykernel)",
   "language": "python",
   "name": "python3"
  },
  "language_info": {
   "codemirror_mode": {
    "name": "ipython",
    "version": 3
   },
   "file_extension": ".py",
   "mimetype": "text/x-python",
   "name": "python",
   "nbconvert_exporter": "python",
   "pygments_lexer": "ipython3",
   "version": "3.11.7"
  }
 },
 "nbformat": 4,
 "nbformat_minor": 5
}
