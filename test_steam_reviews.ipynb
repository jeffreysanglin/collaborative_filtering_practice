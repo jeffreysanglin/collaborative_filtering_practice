{
 "cells": [
  {
   "cell_type": "code",
   "execution_count": 1,
   "id": "b70fb550-7a7c-43f3-ad49-14aaee0c0f24",
   "metadata": {
    "tags": []
   },
   "outputs": [
    {
     "name": "stdout",
     "output_type": "stream",
     "text": [
      "Fetching: positive_steam_english\n"
     ]
    },
    {
     "ename": "KeyboardInterrupt",
     "evalue": "",
     "output_type": "error",
     "traceback": [
      "\u001b[0;31m---------------------------------------------------------------------------\u001b[0m",
      "\u001b[0;31mKeyboardInterrupt\u001b[0m                         Traceback (most recent call last)",
      "Cell \u001b[0;32mIn[1], line 66\u001b[0m\n\u001b[1;32m     63\u001b[0m     \u001b[38;5;28;01mreturn\u001b[39;00m results\n\u001b[1;32m     65\u001b[0m \u001b[38;5;66;03m# Run the collector for Half-Life 2 (appid: 220)\u001b[39;00m\n\u001b[0;32m---> 66\u001b[0m all_reviews \u001b[38;5;241m=\u001b[39m \u001b[43mcollect_all_reviews\u001b[49m\u001b[43m(\u001b[49m\u001b[43mappid\u001b[49m\u001b[38;5;241;43m=\u001b[39;49m\u001b[38;5;241;43m220\u001b[39;49m\u001b[43m)\u001b[49m\n\u001b[1;32m     68\u001b[0m \u001b[38;5;66;03m# Example: Save to disk or filter for unique reviews later\u001b[39;00m\n\u001b[1;32m     69\u001b[0m \u001b[38;5;66;03m# e.g., by recommendationid or Steam user ID\u001b[39;00m\n",
      "Cell \u001b[0;32mIn[1], line 60\u001b[0m, in \u001b[0;36mcollect_all_reviews\u001b[0;34m(appid)\u001b[0m\n\u001b[1;32m     58\u001b[0m key \u001b[38;5;241m=\u001b[39m \u001b[38;5;124mf\u001b[39m\u001b[38;5;124m\"\u001b[39m\u001b[38;5;132;01m{\u001b[39;00mrt\u001b[38;5;132;01m}\u001b[39;00m\u001b[38;5;124m_\u001b[39m\u001b[38;5;132;01m{\u001b[39;00mpt\u001b[38;5;132;01m}\u001b[39;00m\u001b[38;5;124m_\u001b[39m\u001b[38;5;132;01m{\u001b[39;00mlang\u001b[38;5;132;01m}\u001b[39;00m\u001b[38;5;124m\"\u001b[39m\n\u001b[1;32m     59\u001b[0m \u001b[38;5;28mprint\u001b[39m(\u001b[38;5;124mf\u001b[39m\u001b[38;5;124m\"\u001b[39m\u001b[38;5;124mFetching: \u001b[39m\u001b[38;5;132;01m{\u001b[39;00mkey\u001b[38;5;132;01m}\u001b[39;00m\u001b[38;5;124m\"\u001b[39m)\n\u001b[0;32m---> 60\u001b[0m reviews \u001b[38;5;241m=\u001b[39m \u001b[43mfetch_reviews\u001b[49m\u001b[43m(\u001b[49m\u001b[43mappid\u001b[49m\u001b[43m,\u001b[49m\u001b[43m \u001b[49m\u001b[43mrt\u001b[49m\u001b[43m,\u001b[49m\u001b[43m \u001b[49m\u001b[43mpt\u001b[49m\u001b[43m,\u001b[49m\u001b[43m \u001b[49m\u001b[43mlang\u001b[49m\u001b[43m)\u001b[49m\n\u001b[1;32m     61\u001b[0m results[key] \u001b[38;5;241m=\u001b[39m reviews\n\u001b[1;32m     62\u001b[0m \u001b[38;5;28mprint\u001b[39m(\u001b[38;5;124mf\u001b[39m\u001b[38;5;124m\"\u001b[39m\u001b[38;5;124mRetrieved \u001b[39m\u001b[38;5;132;01m{\u001b[39;00m\u001b[38;5;28mlen\u001b[39m(reviews)\u001b[38;5;132;01m}\u001b[39;00m\u001b[38;5;124m reviews for \u001b[39m\u001b[38;5;132;01m{\u001b[39;00mkey\u001b[38;5;132;01m}\u001b[39;00m\u001b[38;5;124m\"\u001b[39m)\n",
      "Cell \u001b[0;32mIn[1], line 51\u001b[0m, in \u001b[0;36mfetch_reviews\u001b[0;34m(appid, review_type, purchase_type, language, num_per_request)\u001b[0m\n\u001b[1;32m     48\u001b[0m     \u001b[38;5;28;01mif\u001b[39;00m \u001b[38;5;129;01mnot\u001b[39;00m cursor \u001b[38;5;129;01mor\u001b[39;00m old_cursor \u001b[38;5;241m==\u001b[39m cursor:\n\u001b[1;32m     49\u001b[0m         \u001b[38;5;28;01mbreak\u001b[39;00m\n\u001b[0;32m---> 51\u001b[0m     time\u001b[38;5;241m.\u001b[39msleep(\u001b[38;5;241m0.2\u001b[39m)  \u001b[38;5;66;03m# respect API rate limits\u001b[39;00m\n\u001b[1;32m     53\u001b[0m \u001b[38;5;28;01mreturn\u001b[39;00m reviews\n",
      "\u001b[0;31mKeyboardInterrupt\u001b[0m: "
     ]
    }
   ],
   "source": [
    "import requests\n",
    "import time\n",
    "import itertools\n",
    "from collections import defaultdict\n",
    "\n",
    "STEAM_API_URL = \"https://store.steampowered.com/appreviews/220\"\n",
    "\n",
    "REVIEW_TYPES = ['positive', 'negative']\n",
    "PURCHASE_TYPES = ['steam', 'non_steam_purchase']\n",
    "LANGUAGES = ['english', 'german', 'french', 'spanish', 'russian', 'chinese', 'japanese', 'korean', 'brazilian', 'all']\n",
    "\n",
    "def fetch_reviews(appid, review_type, purchase_type, language, num_per_request=100):\n",
    "    cursor = '*'\n",
    "    reviews = []\n",
    "    seen_ids = set()\n",
    "    \n",
    "    while True:\n",
    "        params = {\n",
    "            'json': 1,\n",
    "            'filter': 'all',\n",
    "            'language': language,\n",
    "            'review_type': review_type,\n",
    "            'purchase_type': purchase_type,\n",
    "            'num_per_page': num_per_request,\n",
    "            'cursor': cursor\n",
    "        }\n",
    "\n",
    "        try:\n",
    "            response = requests.get(STEAM_API_URL, params=params, timeout=10)\n",
    "            response.raise_for_status()\n",
    "            data = response.json()\n",
    "        except Exception as e:\n",
    "            print(f\"Error: {e}\")\n",
    "            break\n",
    "\n",
    "        batch = data.get(\"reviews\", [])\n",
    "        if not batch:\n",
    "            break\n",
    "\n",
    "        for review in batch:\n",
    "            rid = review.get(\"recommendationid\")\n",
    "            if rid not in seen_ids:\n",
    "                reviews.append(review)\n",
    "                seen_ids.add(rid)\n",
    "\n",
    "        old_cursor = cursor\n",
    "        cursor = data.get(\"cursor\")\n",
    "        if not cursor or old_cursor == cursor:\n",
    "            break\n",
    "\n",
    "        time.sleep(0.2)  # respect API rate limits\n",
    "\n",
    "    return reviews\n",
    "\n",
    "def collect_all_reviews(appid):\n",
    "    results = defaultdict(list)\n",
    "    for rt, pt, lang in itertools.product(REVIEW_TYPES, PURCHASE_TYPES, LANGUAGES):\n",
    "        key = f\"{rt}_{pt}_{lang}\"\n",
    "        print(f\"Fetching: {key}\")\n",
    "        reviews = fetch_reviews(appid, rt, pt, lang)\n",
    "        results[key] = reviews\n",
    "        print(f\"Retrieved {len(reviews)} reviews for {key}\")\n",
    "    return results\n",
    "\n",
    "# Run the collector for Half-Life 2 (appid: 220)\n",
    "all_reviews = collect_all_reviews(appid=220)\n",
    "\n",
    "# Example: Save to disk or filter for unique reviews later\n",
    "# e.g., by recommendationid or Steam user ID\n"
   ]
  },
  {
   "cell_type": "code",
   "execution_count": null,
   "id": "90abf654-6129-4a0d-9ca9-62e73301afe7",
   "metadata": {},
   "outputs": [],
   "source": []
  }
 ],
 "metadata": {
  "kernelspec": {
   "display_name": "Python 3 (ipykernel)",
   "language": "python",
   "name": "python3"
  },
  "language_info": {
   "codemirror_mode": {
    "name": "ipython",
    "version": 3
   },
   "file_extension": ".py",
   "mimetype": "text/x-python",
   "name": "python",
   "nbconvert_exporter": "python",
   "pygments_lexer": "ipython3",
   "version": "3.11.7"
  }
 },
 "nbformat": 4,
 "nbformat_minor": 5
}
