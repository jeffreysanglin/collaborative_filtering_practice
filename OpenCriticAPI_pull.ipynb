{
 "cells": [
  {
   "cell_type": "markdown",
   "id": "7195e1a7-f482-4bf3-9ab9-7046868dc85c",
   "metadata": {},
   "source": [
    "https://opencritic.com/browse/all/all-time/num-reviews?page=3\n",
    "\n",
    "https://rapidapi.com/console/10520148/billing/subscriptions-and-usage"
   ]
  },
  {
   "cell_type": "code",
   "execution_count": 140,
   "id": "ed0b785e-8ceb-4fc2-a587-0cd8a9b64c89",
   "metadata": {
    "tags": []
   },
   "outputs": [],
   "source": [
    "from requests import get\n",
    "import time\n",
    "import pandas as pd"
   ]
  },
  {
   "cell_type": "code",
   "execution_count": 83,
   "id": "cfe1fd5e-5c24-43f2-84b4-5c79fc2f423d",
   "metadata": {
    "tags": []
   },
   "outputs": [],
   "source": [
    "\n",
    "allgames_url = \"https://opencritic-api.p.rapidapi.com/game\"\n",
    "headers = {\"x-rapidapi-host\": \"opencritic-api.p.rapidapi.com\",\n",
    "          \"x-rapidapi-key\": \"33ada1ad65msh5cd9bcf43c10386p119501jsneb46151fedcf\"\n",
    "          }\n",
    "queries={\"platforms\":\"all\", \"sort\":\"score\",\"skip\":0}\n",
    "resp = get(url=allgames_url, headers=headers, params=queries)\n",
    "#resp = get(url=url)"
   ]
  },
  {
   "cell_type": "code",
   "execution_count": null,
   "id": "cc68dfb8-a76e-477b-ad1f-be3dbc53924e",
   "metadata": {},
   "outputs": [],
   "source": []
  },
  {
   "cell_type": "code",
   "execution_count": 84,
   "id": "ed216c4f-0913-43ba-84ef-12089962c36a",
   "metadata": {
    "tags": []
   },
   "outputs": [
    {
     "name": "stdout",
     "output_type": "stream",
     "text": [
      "['__attrs__', '__bool__', '__class__', '__delattr__', '__dict__', '__dir__', '__doc__', '__enter__', '__eq__', '__exit__', '__format__', '__ge__', '__getattribute__', '__getstate__', '__gt__', '__hash__', '__init__', '__init_subclass__', '__iter__', '__le__', '__lt__', '__module__', '__ne__', '__new__', '__nonzero__', '__reduce__', '__reduce_ex__', '__repr__', '__setattr__', '__setstate__', '__sizeof__', '__str__', '__subclasshook__', '__weakref__', '_content', '_content_consumed', '_next', 'apparent_encoding', 'close', 'connection', 'content', 'cookies', 'elapsed', 'encoding', 'headers', 'history', 'is_permanent_redirect', 'is_redirect', 'iter_content', 'iter_lines', 'json', 'links', 'next', 'ok', 'raise_for_status', 'raw', 'reason', 'request', 'status_code', 'text', 'url']\n"
     ]
    }
   ],
   "source": [
    "print(dir(resp))"
   ]
  },
  {
   "cell_type": "code",
   "execution_count": 85,
   "id": "8ae5c19a-f194-4bc7-a08e-5300f71715f9",
   "metadata": {
    "tags": []
   },
   "outputs": [
    {
     "name": "stdout",
     "output_type": "stream",
     "text": [
      "Example Item:\n",
      "{'images': {'box': {'og': 'game/4504/o/1oc8VdkN.jpg', 'sm': 'game/4504/DTh6jjTo.jpg'}, 'banner': {'og': 'game/4504/o/oh38qUAE.jpg', 'sm': 'game/4504/BZrxOMDi.jpg'}}, 'percentRecommended': 98.01324503311258, 'numReviews': 157, 'topCriticScore': 96.8108108108108, 'tier': 'Mighty', 'name': 'Super Mario Odyssey', 'Platforms': [{'id': 32, 'name': 'Nintendo Switch', 'shortName': 'Switch', 'releaseDate': '2017-10-27T00:00:00.000Z'}], 'Genres': [{'_id': '5d8678fd93765d677877b650', 'id': 76, 'name': 'Adventure'}, {'_id': '5d8678fd93765d677877b64f', 'id': 82, 'name': 'Platformer'}], 'id': 4504, 'firstReleaseDate': '2017-10-27T00:00:00.000Z', 'tags': [{'_id': '6699556e534cfd6134a07934', 'displayOnFilter': True, 'isActive': True, 'name': 'Platformer', 'initialPopularity': 947, '__v': 0, 'tagId': 'platformer', 'id': '6699556e534cfd6134a07934'}, {'_id': '6699556b534cfd6134a078e0', 'displayOnFilter': True, 'isActive': True, 'name': 'Adventure', 'initialPopularity': 3280, '__v': 0, 'tagId': 'adventure', 'id': '6699556b534cfd6134a078e0'}, {'_id': '6699556a534cfd6134a078d8', 'displayOnFilter': True, 'isActive': True, 'name': 'Singleplayer', 'initialPopularity': 4158, '__v': 0, 'tagId': 'singleplayer', 'id': '6699556a534cfd6134a078d8'}, {'_id': '6699556b534cfd6134a078f4', 'displayOnFilter': True, 'isActive': True, 'name': 'Multiplayer', 'initialPopularity': 1503, '__v': 0, 'tagId': 'multiplayer', 'description': '', 'id': '6699556b534cfd6134a078f4'}, {'_id': '6699556e534cfd6134a07928', 'displayOnFilter': True, 'isActive': True, 'name': 'Co-op', 'initialPopularity': 992, '__v': 0, 'tagId': 'co-op', 'id': '6699556e534cfd6134a07928'}], 'url': 'https://opencritic.com/game/4504/super-mario-odyssey'}\n"
     ]
    }
   ],
   "source": [
    "items = resp.json()\n",
    "print(\"Example Item:\")\n",
    "print(items[0])\n",
    "#display(items)\n",
    "\n",
    "\n",
    "#items.json()"
   ]
  },
  {
   "cell_type": "code",
   "execution_count": 141,
   "id": "93ad7930-ba77-48b4-83ff-5910bcaf92f7",
   "metadata": {
    "tags": []
   },
   "outputs": [],
   "source": [
    "def parseValues(response_text):\n",
    "    values = {}\n",
    "    for i in response_text:\n",
    "        #i_values = {}\n",
    "        #Extract the game id and name\n",
    "        values[i['id']] = {'name':i['name'],\"n_reviews\":i['numReviews']}\n",
    "    return(values)\n",
    "\n",
    "def saveResults(results, save_path, verbose=True):\n",
    "    if verbose:\n",
    "        print(f\"Saving results to {save_path}\")\n",
    "    df = pd.DataFrame.from_dict(results, orient=\"index\")\n",
    "    df.to_parquet(save_path,index=True)\n",
    "\n",
    "class OpenCriticAPI:\n",
    "    def __init__(self, endpoint, query_params=None, limit_pages=1):\n",
    "        self.url = f\"https://opencritic-api.p.rapidapi.com/{endpoint}\"\n",
    "        self.headers = {\"x-rapidapi-host\": \"opencritic-api.p.rapidapi.com\",\n",
    "                \"x-rapidapi-key\": \"33ada1ad65msh5cd9bcf43c10386p119501jsneb46151fedcf\"\n",
    "            }\n",
    "               \n",
    "        if query_params:\n",
    "            self.params = query_params\n",
    "        else:\n",
    "            self.params = queries={\"platforms\":\"all\", \"sort\":\"num-reviews\",\"skip\":0}\n",
    "      \n",
    "    def callOne(self,pagination=None):\n",
    "        if pagination:\n",
    "            new_params = self.params\n",
    "            new_params['skip'] = (pagination - 1) * 20\n",
    "            self.response = get(url=self.url, headers=self.headers, params=new_params)\n",
    "        else:\n",
    "            self.response = get(url=self.url, headers=self.headers, params=self.params)\n",
    "        return(self)\n",
    "    \n",
    "    def callAll(self, results_path, max_pages=1, rate_limit=3, save_on_error=True):\n",
    "        results = {}\n",
    "        pages_read = 0\n",
    "        \n",
    "        for page_number in range(max_pages):\n",
    "            #Set our page number\n",
    "            page_number = pages_read + 1\n",
    "            \n",
    "            try:\n",
    "                #call callOne\n",
    "                response = self.callOne(pagination=page_number)\n",
    "                #increment pages_read\n",
    "                pages_read += 1\n",
    "                print(f\"Pages read: {pages_read}\")\n",
    "                status_code = response.response.status_code\n",
    "                print(f\"Status Code: {status_code}\")\n",
    "                \n",
    "                if status_code != 200:\n",
    "                    print(f\"Non-200 Response: {response.response.text}\")\n",
    "                    if save_on_error and results:\n",
    "                        saveResults(results=results, save_path=results_path)\n",
    "                    break\n",
    "                    \n",
    "                new_results = parseValues(response.response.json())\n",
    "                #merge dictionaries\n",
    "                results = {**results, **new_results}\n",
    "\n",
    "                #sleep to avoid rate limit\n",
    "                time.sleep(1/rate_limit)\n",
    "            \n",
    "            except Exception as e:\n",
    "                print(f\"Exception occurred: {e}\")\n",
    "                if save_on_error and results:\n",
    "                    saveResults(results=results, save_path=results_path)\n",
    "                break\n",
    "                        \n",
    "        return(results)\n",
    "    \n",
    "    def parse(self):\n",
    "        values = parseValues(self.response.json())\n",
    "        return(values)\n",
    "    \n",
    "    "
   ]
  },
  {
   "cell_type": "code",
   "execution_count": 142,
   "id": "2ee60a02-8b31-449e-8982-44b126f4aa67",
   "metadata": {
    "tags": []
   },
   "outputs": [
    {
     "name": "stdout",
     "output_type": "stream",
     "text": [
      "Pages read: 1\n",
      "Status Code: 429\n",
      "Non-200 Response: {\"message\":\"You have exceeded the DAILY quota for Requests on your current plan, BASIC. Upgrade your plan at https:\\/\\/rapidapi.com\\/opencritic-opencritic-default\\/api\\/opencritic-api\"}\n",
      "{}\n"
     ]
    }
   ],
   "source": [
    "ocapi = OpenCriticAPI(endpoint=\"game\")\n",
    "test_res = ocapi.callAll(results_path='./data/ocgames.parquet', max_pages=20)\n",
    "print(test_res)"
   ]
  },
  {
   "cell_type": "code",
   "execution_count": null,
   "id": "eeadb9e8-38e0-4e64-a2a8-751bac7c8314",
   "metadata": {},
   "outputs": [],
   "source": []
  }
 ],
 "metadata": {
  "kernelspec": {
   "display_name": "Python 3 (ipykernel)",
   "language": "python",
   "name": "python3"
  },
  "language_info": {
   "codemirror_mode": {
    "name": "ipython",
    "version": 3
   },
   "file_extension": ".py",
   "mimetype": "text/x-python",
   "name": "python",
   "nbconvert_exporter": "python",
   "pygments_lexer": "ipython3",
   "version": "3.11.7"
  }
 },
 "nbformat": 4,
 "nbformat_minor": 5
}
